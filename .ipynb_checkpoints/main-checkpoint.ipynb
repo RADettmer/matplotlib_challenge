{
 "cells": [
  {
   "cell_type": "markdown",
   "metadata": {},
   "source": [
    "## Observations and Insights\n",
    "\n",
    "Here are my observations.\n",
    "1) There were ten drug regimens used to treat SCC tumor growth over 45 days. of these, Capomulin seemed to be the most responsive to reduce the tumor volume with Ramicane comeing in second.\n",
    "2) Of the animal study, the sex of the mice were closely split 50.6% male and 49.4% female.\n",
    "3) Reviewing the scatter diagram and regression line, Capolmulin again showed a strong correlation with an r-squared value of 0.841.\n",
    "4) Suprisingly, in reviewing the box plots, I could not find any outliers in this data set. I even ran one drug by itself to verify. I left this in the code below."
   ]
  },
  {
   "cell_type": "markdown",
   "metadata": {},
   "source": []
  },
  {
   "cell_type": "code",
   "execution_count": null,
   "metadata": {},
   "outputs": [],
   "source": [
    "# Dependencies and Setup - - - - - - - - - - - -                                        Randy Dettmer - - - main - - - 3/6/2020\n",
    "import matplotlib.pyplot as plt\n",
    "import pandas as pd\n",
    "import scipy.stats as st\n",
    "import numpy as np\n",
    "%matplotlib inline\n",
    "\n",
    "# Study data files\n",
    "mouse_metadata = \"data/Mouse_metadata.csv\"\n",
    "study_results = \"data/Study_results.csv\"\n",
    "\n",
    "# Read the mouse data and the study results\n",
    "mouse_metadata = pd.read_csv(mouse_metadata)\n",
    "study_results = pd.read_csv(study_results)\n",
    "\n",
    "# Combine the data into a single dataset"
   ]
  },
  {
   "cell_type": "code",
   "execution_count": null,
   "metadata": {},
   "outputs": [],
   "source": [
    "#review first file data to determine key for merge\n",
    "#mouse_metadata.head()"
   ]
  },
  {
   "cell_type": "code",
   "execution_count": null,
   "metadata": {
    "scrolled": false
   },
   "outputs": [],
   "source": [
    "#review second file data to determine key for merge\n",
    "#study_results.head()"
   ]
  },
  {
   "cell_type": "code",
   "execution_count": null,
   "metadata": {
    "scrolled": true
   },
   "outputs": [],
   "source": [
    "#join both datasets on Mouse ID as the key\n",
    "df1 = pd.merge(mouse_metadata, study_results ,on=\"Mouse ID\")\n",
    "df1.head() #- option to review the head"
   ]
  },
  {
   "cell_type": "markdown",
   "metadata": {},
   "source": [
    "## Summary statistics"
   ]
  },
  {
   "cell_type": "code",
   "execution_count": null,
   "metadata": {
    "scrolled": false
   },
   "outputs": [],
   "source": [
    "#start to generate summary statistics\n",
    "#group by Drug Regimen\n",
    "df2 = df1.groupby('Drug Regimen')\n",
    "#generate mean tumor volume\n",
    "drug_mean = df2['Tumor Volume (mm3)'].mean()"
   ]
  },
  {
   "cell_type": "code",
   "execution_count": null,
   "metadata": {},
   "outputs": [],
   "source": [
    "#generate median/average of tumor volume\n",
    "drug_median = df2['Tumor Volume (mm3)'].median()"
   ]
  },
  {
   "cell_type": "code",
   "execution_count": null,
   "metadata": {},
   "outputs": [],
   "source": [
    "#generate variance of tumor volume\n",
    "drug_var = df2['Tumor Volume (mm3)'].var()"
   ]
  },
  {
   "cell_type": "code",
   "execution_count": null,
   "metadata": {},
   "outputs": [],
   "source": [
    "#generate standard deviation of tumor volume\n",
    "drug_std = df2['Tumor Volume (mm3)'].std()"
   ]
  },
  {
   "cell_type": "code",
   "execution_count": null,
   "metadata": {},
   "outputs": [],
   "source": [
    "#generate SEM of tumor volume\n",
    "drug_sem = df2['Tumor Volume (mm3)'].sem()"
   ]
  },
  {
   "cell_type": "code",
   "execution_count": null,
   "metadata": {
    "scrolled": true
   },
   "outputs": [],
   "source": [
    "#generate new table with summary statistics\n",
    "regimen_count = df1[\"Drug Regimen\"].value_counts()\n",
    "df3 = pd.DataFrame(regimen_count)\n",
    "#df3.reset_index(level=0, inplace=True) #test may need removed\n",
    "#df3 = df3.rename(columns={\"index\":\"Drug Regimen\", \"Drug Regimen\" : \"Data Points\"})\n",
    "df3[\"Mean\"] = drug_mean\n",
    "df3[\"Median\"] = drug_median\n",
    "df3[\"Variance\"] = drug_var\n",
    "df3[\"Standard Deviation\"] = drug_std\n",
    "df3[\"SEM\"] = drug_sem\n",
    "df3.reset_index(level=0, inplace=True) #test may need removed\n",
    "df3.head()"
   ]
  },
  {
   "cell_type": "markdown",
   "metadata": {},
   "source": [
    "## Bar Charts"
   ]
  },
  {
   "cell_type": "code",
   "execution_count": null,
   "metadata": {
    "scrolled": false
   },
   "outputs": [],
   "source": [
    "#create bar chart in pandas showing data points per drug regimen\n",
    "regimen_count.plot(kind=\"bar\")\n",
    "plt.title(\"Bar Plot Pandas For Total Data Points per Drug Regimen\")\n",
    "plt.xlabel(\"Drug Regimen\")\n",
    "plt.ylabel(\"Total Data Points\")\n",
    "plt.show()\n",
    "plt.tight_layout()\n",
    "plt.savefig(\"Bar_Panda.png\")"
   ]
  },
  {
   "cell_type": "code",
   "execution_count": null,
   "metadata": {},
   "outputs": [],
   "source": [
    "#create bar chart in pyplot\n",
    "regimen_x = np.arange(len(regimen_count))\n",
    "tick_locations = [value for value in regimen_x]\n",
    "drug_ticks = df3.iloc[:,0]\n",
    "plt.xticks(tick_locations, drug_ticks, rotation='vertical')\n",
    "plt.bar(regimen_x, regimen_count, color='b', align='center')\n",
    "plt.title(\"Bar Plot Pyplot\")\n",
    "plt.ylabel(\"Total Data Points\")\n",
    "plt.xlabel(\"Drug Regimen\")\n",
    "plt.savefig(\"Bar_Pyplot.png\")"
   ]
  },
  {
   "cell_type": "markdown",
   "metadata": {},
   "source": [
    "## Pie plots"
   ]
  },
  {
   "cell_type": "code",
   "execution_count": null,
   "metadata": {},
   "outputs": [],
   "source": [
    "#pie plot showing distribution of female versus male mice\n",
    "gender_split = df1[\"Sex\"].value_counts()\n",
    "df4 = pd.DataFrame(gender_split)\n",
    "df4"
   ]
  },
  {
   "cell_type": "code",
   "execution_count": null,
   "metadata": {
    "scrolled": true
   },
   "outputs": [],
   "source": [
    "#pie plot using pandas\n",
    "df4.plot.pie(y='Sex', figsize=(5, 5))\n",
    "plt.title(\"panda pie\")\n",
    "plt.show()\n",
    "plt.savefig(\"Pie_Panda.png\")"
   ]
  },
  {
   "cell_type": "code",
   "execution_count": null,
   "metadata": {
    "scrolled": true
   },
   "outputs": [],
   "source": [
    "#pie plot using pyplot\n",
    "labels = [\"Male\", \"Female\"]\n",
    "sizes = gender_split\n",
    "colors =[\"blue\", \"pink\"]\n",
    "explode = (0.1, 0)\n",
    "plt.pie(sizes, explode=explode, labels=labels, colors=colors, autopct=\"%1.1f%%\", shadow=True, startangle=0)\n",
    "plt.axis(\"equal\")\n",
    "plt.title(\"pyplot pie\")\n",
    "plt.savefig(\"Pie_Pyplot.png\")"
   ]
  },
  {
   "cell_type": "markdown",
   "metadata": {},
   "source": [
    "## Quartiles, outliers and boxplots"
   ]
  },
  {
   "cell_type": "code",
   "execution_count": null,
   "metadata": {
    "scrolled": false
   },
   "outputs": [],
   "source": [
    "#df1.Timepoint.max() #this is equal to 45\n",
    "#verify all ten drugs have 45 as the highest time and the answer is yes\n",
    "#time_max = df2.Timepoint.max()\n",
    "#df11 = df2[\"Drug Regimen\",\"Tumor Volume (mm3)\"].Timepoint.max()\n",
    "#print(time_max)"
   ]
  },
  {
   "cell_type": "code",
   "execution_count": null,
   "metadata": {
    "scrolled": true
   },
   "outputs": [],
   "source": [
    "#extract maximum Timepoint (45 as determined above) per drug with tumor volume\n",
    "captp45 = df1.loc[(df1[\"Drug Regimen\"] == \"Capomulin\") & (df1[\"Timepoint\"] == df1[\"Timepoint\"].max()), :]\n",
    "ramtp45 = df1.loc[(df1[\"Drug Regimen\"] == \"Ramicane\") & (df1[\"Timepoint\"] == df1[\"Timepoint\"].max()), :]\n",
    "inftp45 = df1.loc[(df1[\"Drug Regimen\"] == \"Infubinol\") & (df1[\"Timepoint\"] == df1[\"Timepoint\"].max()), :]\n",
    "ceftp45 = df1.loc[(df1[\"Drug Regimen\"] == \"Ceftamin\") & (df1[\"Timepoint\"] == df1[\"Timepoint\"].max()), :]"
   ]
  },
  {
   "cell_type": "code",
   "execution_count": null,
   "metadata": {
    "scrolled": true
   },
   "outputs": [],
   "source": [
    "#tumor volumes\n",
    "captv = captp45[\"Tumor Volume (mm3)\"].sort_values() #Capomulin tumor volumes\n",
    "ramtv = ramtp45[\"Tumor Volume (mm3)\"].sort_values() #Ramicane tumor volumes\n",
    "inftv = inftp45[\"Tumor Volume (mm3)\"].sort_values() #Infubinol tumor volumes\n",
    "ceftv = ceftp45[\"Tumor Volume (mm3)\"].sort_values() #Ceftamin tumor volumes\n",
    "\n",
    "#calculate quartiles and outlier ranges for Capomulin\n",
    "qcaptv = captv.quantile([.25,.5,.75])\n",
    "lcaptv = qcaptv[0.25]\n",
    "ucaptv = qcaptv[0.75]\n",
    "iqrcaptv = ucaptv-lcaptv\n",
    "print(f'The lower quartile of tumor volume for Capomulin is: {lcaptv}')\n",
    "print(f'The upper quartile of tumor volume for Capomulin is: {ucaptv}')\n",
    "print(f'The interquartile range of tumor volume for Capomulin is: {iqrcaptv}')\n",
    "lbcaptv = lcaptv - (1.5*iqrcaptv)\n",
    "ubcaptv = ucaptv + (1.5*iqrcaptv)\n",
    "print(f'Values below {lbcaptv} could be outliers.')\n",
    "print(f'Values above {ubcaptv} could be outliers.')\n",
    "print('---------------------------------------------------------------')\n",
    "\n",
    "#calculate quartiles and outlier ranges for Ramicane\n",
    "qramtv = ramtv.quantile([.25,.5,.75])\n",
    "lramtv = qramtv[0.25]\n",
    "uramtv = qramtv[0.75]\n",
    "iqrramtv = uramtv-lramtv\n",
    "print(f'The lower quartile of tumor volume for Ramicane is: {lramtv}')\n",
    "print(f'The upper quartile of tumor volume for Ramicane is: {uramtv}')\n",
    "print(f'The interquartile range of tumor volume for Ramicane is: {iqrramtv}')\n",
    "lbramtv = lramtv - (1.5*iqrramtv)\n",
    "ubramtv = uramtv + (1.5*iqrramtv)\n",
    "print(f'Values below {lbramtv} could be outliers for Ramicane.')\n",
    "print(f'Values above {ubramtv} could be outliers for Ramicane.')\n",
    "print('---------------------------------------------------------------')\n",
    "\n",
    "#calculate quartiles and outlier ranges for Infubinol\n",
    "qinftv = inftv.quantile([.25,.5,.75])\n",
    "linftv = qinftv[0.25]\n",
    "uinftv = qinftv[0.75]\n",
    "iqrinftv = uinftv-linftv\n",
    "print(f'The lower quartile of tumor volume for Infubinol is: {linftv}')\n",
    "print(f'The upper quartile of tumor volume for Infubinol is: {uinftv}')\n",
    "print(f'The interquartile range of tumor volume for Infubinol is: {iqrinftv}')\n",
    "lbinftv = linftv - (1.5*iqrinftv)\n",
    "ubinftv = uinftv + (1.5*iqrinftv)\n",
    "print(f'Values below {lbinftv} could be outliers for Infubinol.')\n",
    "print(f'Values above {ubinftv} could be outliers for Infubinol.')\n",
    "print('---------------------------------------------------------------')\n",
    "\n",
    "#calculate quartiles and outlier ranges for Ceftamin\n",
    "qceftv = ceftv.quantile([.25,.5,.75])\n",
    "lceftv = qceftv[0.25]\n",
    "uceftv = qceftv[0.75]\n",
    "iqrceftv = uceftv-lceftv\n",
    "print(f'The lower quartile of tumor volume for Ceftamin is: {lceftv}')\n",
    "print(f'The upper quartile of tumor volume for Ceftamin is: {uceftv}')\n",
    "print(f'The interquartile range of tumor volume for Ceftamin is: {iqrceftv}')\n",
    "lbceftv = lceftv - (1.5*iqrceftv)\n",
    "ubceftv = uceftv + (1.5*iqrceftv)\n",
    "print(f'Values below {lbceftv} could be outliers for Ceftamin.')\n",
    "print(f'Values above {ubceftv} could be outliers for Ceftamin.')\n",
    "print('---------------------------------------------------------------')"
   ]
  },
  {
   "cell_type": "code",
   "execution_count": null,
   "metadata": {
    "scrolled": true
   },
   "outputs": [],
   "source": [
    "#Box plot set up\n",
    "captv = captp45[\"Tumor Volume (mm3)\"].sort_values()\n",
    "ramtv = ramtp45[\"Tumor Volume (mm3)\"].sort_values()\n",
    "inftv = inftp45[\"Tumor Volume (mm3)\"].sort_values()\n",
    "ceftv = ceftp45[\"Tumor Volume (mm3)\"].sort_values()\n",
    "red_square = dict(markerfacecolor = 'r', marker='s')\n",
    "\n",
    "fig, ax1 = plt.subplots()\n",
    "\n",
    "ax1.set_ylabel(\"Tumor Volume\")\n",
    "\n",
    "ax1.boxplot([captv, ramtv, inftv, ceftv], flierprops=red_square)\n",
    "plt.xticks([1, 2, 3, 4], ['Capomulin', 'Ramicane', 'Infubinol', 'Ceftamin'])\n",
    "plt.grid()\n",
    "\n",
    "plt.show()\n",
    "plt.savefig(\"BoxplotAll.png\")"
   ]
  },
  {
   "cell_type": "code",
   "execution_count": null,
   "metadata": {},
   "outputs": [],
   "source": [
    "#print(captv) #to check values - ok min is 23.343598 and max is 47.685963 with a total of 21 values"
   ]
  },
  {
   "cell_type": "code",
   "execution_count": null,
   "metadata": {
    "scrolled": true
   },
   "outputs": [],
   "source": [
    "#test one drug regimen only to see if markers show up - they don't + + + + + + + + + + + + + + + + + + + + +\n",
    "green_diamond = dict(markerfacecolor = 'g', marker='D')\n",
    "fig2, ax = plt.subplots()\n",
    "ax.set_title(\"Test for Capomulin\")\n",
    "ax.set_ylabel(\"Tumor Volume\")\n",
    "ax.boxplot(captv, flierprops=green_diamond)\n",
    "ax.grid()\n",
    "plt.show()"
   ]
  },
  {
   "cell_type": "markdown",
   "metadata": {},
   "source": [
    "## Line and scatter plots"
   ]
  },
  {
   "cell_type": "code",
   "execution_count": null,
   "metadata": {
    "scrolled": true
   },
   "outputs": [],
   "source": [
    "#filter on Capomulin and one mouse\n",
    "capmouse = df1.loc[(df1[\"Drug Regimen\"] == \"Capomulin\") & (df1[\"Mouse ID\"] == \"s185\"), :]\n",
    "#print(capmouse)"
   ]
  },
  {
   "cell_type": "code",
   "execution_count": null,
   "metadata": {},
   "outputs": [],
   "source": [
    "#set capmouse into a data frame\n",
    "df_s185 = pd.DataFrame(capmouse)\n",
    "df_s185.head()"
   ]
  },
  {
   "cell_type": "code",
   "execution_count": null,
   "metadata": {},
   "outputs": [],
   "source": [
    "#line plot set up for time point vs tumor volume for capomulin drug regimen for mouse s185\n",
    "plt.plot(df_s185.iloc[:,5],df_s185.iloc[:,6], marker=\"o\")\n",
    "plt.title(\"Capomulin - Timepoint vs Tumor Volume for mouse s185\")\n",
    "plt.xlabel(\"Timepoint\")\n",
    "plt.ylabel(\"Tumor Volume (mm3)\")\n",
    "plt.grid()\n",
    "plt.show()\n",
    "plt.savefig(\"LinePlot.png\")"
   ]
  },
  {
   "cell_type": "code",
   "execution_count": null,
   "metadata": {},
   "outputs": [],
   "source": [
    "# Generate a scatter plot of mouse weight versus average tumor volume for the Capomulin regimen"
   ]
  },
  {
   "cell_type": "code",
   "execution_count": null,
   "metadata": {
    "scrolled": true
   },
   "outputs": [],
   "source": [
    "#Capomulin mouse weight vs average tumor volume\n",
    "capmwtv = df1.loc[(df1[\"Drug Regimen\"] == \"Capomulin\"), :]\n",
    "dfy = pd.DataFrame(capmwtv)"
   ]
  },
  {
   "cell_type": "code",
   "execution_count": null,
   "metadata": {
    "scrolled": true
   },
   "outputs": [],
   "source": [
    "#capture capomulin mouse weight - could have used min or max here because the weights of the mice don't change\n",
    "capmousewgt = dfy.groupby(\"Mouse ID\").min()[\"Weight (g)\"]\n",
    "#print(capmousecntwgt)"
   ]
  },
  {
   "cell_type": "code",
   "execution_count": null,
   "metadata": {},
   "outputs": [],
   "source": [
    "#this is what we need for the average tumor volume for each mouse in the capomulin drug regimen\n",
    "capmouseavgtv = dfy.groupby(\"Mouse ID\").mean()[\"Tumor Volume (mm3)\"]\n",
    "#print(capmouseavgtv)"
   ]
  },
  {
   "cell_type": "code",
   "execution_count": null,
   "metadata": {},
   "outputs": [],
   "source": [
    "#create a new data frame for unique \"Mouse ID\" and \"Weight (g)\" - - - - - generate df here\n",
    "dfz = pd.DataFrame({\"Weight_g\" : capmousewgt, \"Avg_TV\" : capmouseavgtv})\n",
    "dfz.head()"
   ]
  },
  {
   "cell_type": "code",
   "execution_count": null,
   "metadata": {},
   "outputs": [],
   "source": [
    "#scatter diagram showing mouse weight vs average tumor volume for capomulin drug regemin - OK\n",
    "plt.scatter(dfz.iloc[:,0], dfz.iloc[:,1], marker =\"o\", facecolors=\"yellow\", edgecolors=\"black\")\n",
    "plt.xlabel(\"Mouse Weight (g)\")\n",
    "plt.ylabel(\"Average Tumor Volume (mm3)\")\n",
    "plt.title(\"Capomulin - Mouse Weight vs Average Tumor Volume\")\n",
    "plt.grid()\n",
    "plt.savefig(\"ScatterDiagram.png\")"
   ]
  },
  {
   "cell_type": "code",
   "execution_count": null,
   "metadata": {},
   "outputs": [],
   "source": [
    "#calculate correlation between mouse weight and the average tumor volume - OK\n",
    "mousewgt = dfz.iloc[:,0] #mouse weight\n",
    "avgtumorv = dfz.iloc[:,1] #average tumor volume\n",
    "correlation = st.pearsonr(mousewgt,avgtumorv)\n",
    "print(f\"The correlation between mouse Weight(g) and the average Tumor Volume(mm3) is {round(correlation[0],2)}\")"
   ]
  },
  {
   "cell_type": "code",
   "execution_count": null,
   "metadata": {},
   "outputs": [],
   "source": [
    "#scatter diagram showing mouse weight vs average tumor volume for capomulin drug regemin with regression line - OK\n",
    "#plt.scatter(dfz.iloc[:,0], dfz.iloc[:,1], marker =\"o\", facecolors=\"yellow\", edgecolors=\"black\")\n",
    "x_values = dfz.iloc[:,0]\n",
    "y_values = dfz.iloc[:,1]\n",
    "(slope, intercept, rvalue, pvalue, stderr) = st.linregress(x_values, y_values)\n",
    "regress_values = x_values * slope + intercept\n",
    "line_eq = \"y = \" + str(round(slope,2)) + \"x + \" + str(round(intercept,2))\n",
    "plt.scatter(x_values, y_values)\n",
    "plt.plot(x_values, regress_values, \"r-\")\n",
    "plt.annotate(line_eq, (20,36), fontsize=15, color=\"red\")\n",
    "plt.xlabel(\"Mouse Weight (g)\")\n",
    "plt.ylabel(\"Average Tumor Volume (mm3)\")\n",
    "plt.title(\"Capomulin - Mouse Weight vs Average Tumor Volume\")\n",
    "print(f\"The r-squared is: {rvalue}\")\n",
    "plt.grid()\n",
    "plt.savefig(\"ScatterDiagramRegression.png\")"
   ]
  },
  {
   "cell_type": "code",
   "execution_count": null,
   "metadata": {},
   "outputs": [],
   "source": [
    "#end of file"
   ]
  }
 ],
 "metadata": {
  "anaconda-cloud": {},
  "kernelspec": {
   "display_name": "Python 3.7.6 64-bit ('PythonData': conda)",
   "language": "python",
   "name": "python37664bitpythondatacondab73bfd16082e40c58c05a61ec360665f"
  },
  "language_info": {
   "codemirror_mode": {
    "name": "ipython",
    "version": 3
   },
   "file_extension": ".py",
   "mimetype": "text/x-python",
   "name": "python",
   "nbconvert_exporter": "python",
   "pygments_lexer": "ipython3",
   "version": "3.7.9"
  }
 },
 "nbformat": 4,
 "nbformat_minor": 2
}
