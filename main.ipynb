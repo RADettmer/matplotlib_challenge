{
 "cells": [
  {
   "cell_type": "markdown",
   "metadata": {},
   "source": [
    "## Observations and Insights\n",
    "\n",
    "Here are my observations.\n",
    "1) There were ten drug regimens used to treat SCC tumor growth over 45 days. of these, Capomulin seemed to be the most responsive to reduce the tumor volume with Ramicane comeing in second.\n",
    "2) Of the animal study, the sex of the mice were closely split 50.6% male and 49.4% female.\n",
    "3) Reviewing the scatter diagram and regression line, Capolmulin again showed a strong correlation with an r-squared value of 0.841.\n",
    "4) Suprisingly, in reviewing the box plots, I could not find any outliers in this data set. I even ran one drug by itself to verify. I left this in the code below."
   ]
  },
  {
   "cell_type": "markdown",
   "metadata": {},
   "source": []
  },
  {
   "cell_type": "code",
   "execution_count": 1,
   "metadata": {},
   "outputs": [],
   "source": [
    "# Dependencies and Setup - - - - - - - - - - - -                                        Randy Dettmer - - - main - - - 3/6/2020\n",
    "import matplotlib.pyplot as plt\n",
    "import pandas as pd\n",
    "import scipy.stats as st\n",
    "import numpy as np\n",
    "%matplotlib inline\n",
    "\n",
    "# Study data files\n",
    "mouse_metadata = \"data/Mouse_metadata.csv\"\n",
    "study_results = \"data/Study_results.csv\"\n",
    "\n",
    "# Read the mouse data and the study results\n",
    "mouse_metadata = pd.read_csv(mouse_metadata)\n",
    "study_results = pd.read_csv(study_results)\n",
    "\n",
    "# Combine the data into a single dataset"
   ]
  },
  {
   "cell_type": "code",
   "execution_count": 2,
   "metadata": {},
   "outputs": [],
   "source": [
    "#review first file data to determine key for merge\n",
    "#mouse_metadata.head()"
   ]
  },
  {
   "cell_type": "code",
   "execution_count": 3,
   "metadata": {
    "scrolled": false
   },
   "outputs": [],
   "source": [
    "#review second file data to determine key for merge\n",
    "#study_results.head()"
   ]
  },
  {
   "cell_type": "code",
   "execution_count": 4,
   "metadata": {
    "scrolled": true
   },
   "outputs": [
    {
     "data": {
      "text/html": [
       "<div>\n",
       "<style scoped>\n",
       "    .dataframe tbody tr th:only-of-type {\n",
       "        vertical-align: middle;\n",
       "    }\n",
       "\n",
       "    .dataframe tbody tr th {\n",
       "        vertical-align: top;\n",
       "    }\n",
       "\n",
       "    .dataframe thead th {\n",
       "        text-align: right;\n",
       "    }\n",
       "</style>\n",
       "<table border=\"1\" class=\"dataframe\">\n",
       "  <thead>\n",
       "    <tr style=\"text-align: right;\">\n",
       "      <th></th>\n",
       "      <th>Mouse ID</th>\n",
       "      <th>Drug Regimen</th>\n",
       "      <th>Sex</th>\n",
       "      <th>Age_months</th>\n",
       "      <th>Weight (g)</th>\n",
       "      <th>Timepoint</th>\n",
       "      <th>Tumor Volume (mm3)</th>\n",
       "      <th>Metastatic Sites</th>\n",
       "    </tr>\n",
       "  </thead>\n",
       "  <tbody>\n",
       "    <tr>\n",
       "      <th>0</th>\n",
       "      <td>k403</td>\n",
       "      <td>Ramicane</td>\n",
       "      <td>Male</td>\n",
       "      <td>21</td>\n",
       "      <td>16</td>\n",
       "      <td>0</td>\n",
       "      <td>45.000000</td>\n",
       "      <td>0</td>\n",
       "    </tr>\n",
       "    <tr>\n",
       "      <th>1</th>\n",
       "      <td>k403</td>\n",
       "      <td>Ramicane</td>\n",
       "      <td>Male</td>\n",
       "      <td>21</td>\n",
       "      <td>16</td>\n",
       "      <td>5</td>\n",
       "      <td>38.825898</td>\n",
       "      <td>0</td>\n",
       "    </tr>\n",
       "    <tr>\n",
       "      <th>2</th>\n",
       "      <td>k403</td>\n",
       "      <td>Ramicane</td>\n",
       "      <td>Male</td>\n",
       "      <td>21</td>\n",
       "      <td>16</td>\n",
       "      <td>10</td>\n",
       "      <td>35.014271</td>\n",
       "      <td>1</td>\n",
       "    </tr>\n",
       "    <tr>\n",
       "      <th>3</th>\n",
       "      <td>k403</td>\n",
       "      <td>Ramicane</td>\n",
       "      <td>Male</td>\n",
       "      <td>21</td>\n",
       "      <td>16</td>\n",
       "      <td>15</td>\n",
       "      <td>34.223992</td>\n",
       "      <td>1</td>\n",
       "    </tr>\n",
       "    <tr>\n",
       "      <th>4</th>\n",
       "      <td>k403</td>\n",
       "      <td>Ramicane</td>\n",
       "      <td>Male</td>\n",
       "      <td>21</td>\n",
       "      <td>16</td>\n",
       "      <td>20</td>\n",
       "      <td>32.997729</td>\n",
       "      <td>1</td>\n",
       "    </tr>\n",
       "  </tbody>\n",
       "</table>\n",
       "</div>"
      ],
      "text/plain": [
       "  Mouse ID Drug Regimen   Sex  Age_months  Weight (g)  Timepoint  \\\n",
       "0     k403     Ramicane  Male          21          16          0   \n",
       "1     k403     Ramicane  Male          21          16          5   \n",
       "2     k403     Ramicane  Male          21          16         10   \n",
       "3     k403     Ramicane  Male          21          16         15   \n",
       "4     k403     Ramicane  Male          21          16         20   \n",
       "\n",
       "   Tumor Volume (mm3)  Metastatic Sites  \n",
       "0           45.000000                 0  \n",
       "1           38.825898                 0  \n",
       "2           35.014271                 1  \n",
       "3           34.223992                 1  \n",
       "4           32.997729                 1  "
      ]
     },
     "execution_count": 4,
     "metadata": {},
     "output_type": "execute_result"
    }
   ],
   "source": [
    "#join both datasets on Mouse ID as the key\n",
    "df1 = pd.merge(mouse_metadata, study_results ,on=\"Mouse ID\")\n",
    "df1.head() #- option to review the head"
   ]
  },
  {
   "cell_type": "markdown",
   "metadata": {},
   "source": [
    "## Summary statistics"
   ]
  },
  {
   "cell_type": "code",
   "execution_count": 5,
   "metadata": {
    "scrolled": false
   },
   "outputs": [],
   "source": [
    "#start to generate summary statistics\n",
    "#group by Drug Regimen\n",
    "df2 = df1.groupby('Drug Regimen')\n",
    "#generate mean tumor volume\n",
    "drug_mean = df2['Tumor Volume (mm3)'].mean()"
   ]
  },
  {
   "cell_type": "code",
   "execution_count": 6,
   "metadata": {},
   "outputs": [],
   "source": [
    "#generate median/average of tumor volume\n",
    "drug_median = df2['Tumor Volume (mm3)'].median()"
   ]
  },
  {
   "cell_type": "code",
   "execution_count": 7,
   "metadata": {},
   "outputs": [],
   "source": [
    "#generate variance of tumor volume\n",
    "drug_var = df2['Tumor Volume (mm3)'].var()"
   ]
  },
  {
   "cell_type": "code",
   "execution_count": 8,
   "metadata": {},
   "outputs": [],
   "source": [
    "#generate standard deviation of tumor volume\n",
    "drug_std = df2['Tumor Volume (mm3)'].std()"
   ]
  },
  {
   "cell_type": "code",
   "execution_count": 9,
   "metadata": {},
   "outputs": [],
   "source": [
    "#generate SEM of tumor volume\n",
    "drug_sem = df2['Tumor Volume (mm3)'].sem()"
   ]
  },
  {
   "cell_type": "code",
   "execution_count": 10,
   "metadata": {
    "scrolled": true
   },
   "outputs": [
    {
     "data": {
      "text/html": [
       "<div>\n",
       "<style scoped>\n",
       "    .dataframe tbody tr th:only-of-type {\n",
       "        vertical-align: middle;\n",
       "    }\n",
       "\n",
       "    .dataframe tbody tr th {\n",
       "        vertical-align: top;\n",
       "    }\n",
       "\n",
       "    .dataframe thead th {\n",
       "        text-align: right;\n",
       "    }\n",
       "</style>\n",
       "<table border=\"1\" class=\"dataframe\">\n",
       "  <thead>\n",
       "    <tr style=\"text-align: right;\">\n",
       "      <th></th>\n",
       "      <th>index</th>\n",
       "      <th>Drug Regimen</th>\n",
       "      <th>Mean</th>\n",
       "      <th>Median</th>\n",
       "      <th>Variance</th>\n",
       "      <th>Standard Deviation</th>\n",
       "      <th>SEM</th>\n",
       "    </tr>\n",
       "  </thead>\n",
       "  <tbody>\n",
       "    <tr>\n",
       "      <th>0</th>\n",
       "      <td>Capomulin</td>\n",
       "      <td>230</td>\n",
       "      <td>40.675741</td>\n",
       "      <td>41.557809</td>\n",
       "      <td>24.947764</td>\n",
       "      <td>4.994774</td>\n",
       "      <td>0.329346</td>\n",
       "    </tr>\n",
       "    <tr>\n",
       "      <th>1</th>\n",
       "      <td>Ramicane</td>\n",
       "      <td>228</td>\n",
       "      <td>40.216745</td>\n",
       "      <td>40.673236</td>\n",
       "      <td>23.486704</td>\n",
       "      <td>4.846308</td>\n",
       "      <td>0.320955</td>\n",
       "    </tr>\n",
       "    <tr>\n",
       "      <th>2</th>\n",
       "      <td>Ketapril</td>\n",
       "      <td>188</td>\n",
       "      <td>55.235638</td>\n",
       "      <td>53.698743</td>\n",
       "      <td>68.553577</td>\n",
       "      <td>8.279709</td>\n",
       "      <td>0.603860</td>\n",
       "    </tr>\n",
       "    <tr>\n",
       "      <th>3</th>\n",
       "      <td>Naftisol</td>\n",
       "      <td>186</td>\n",
       "      <td>54.331565</td>\n",
       "      <td>52.509285</td>\n",
       "      <td>66.173479</td>\n",
       "      <td>8.134708</td>\n",
       "      <td>0.596466</td>\n",
       "    </tr>\n",
       "    <tr>\n",
       "      <th>4</th>\n",
       "      <td>Zoniferol</td>\n",
       "      <td>182</td>\n",
       "      <td>53.236507</td>\n",
       "      <td>51.818479</td>\n",
       "      <td>48.533355</td>\n",
       "      <td>6.966589</td>\n",
       "      <td>0.516398</td>\n",
       "    </tr>\n",
       "  </tbody>\n",
       "</table>\n",
       "</div>"
      ],
      "text/plain": [
       "       index  Drug Regimen       Mean     Median   Variance  \\\n",
       "0  Capomulin           230  40.675741  41.557809  24.947764   \n",
       "1   Ramicane           228  40.216745  40.673236  23.486704   \n",
       "2   Ketapril           188  55.235638  53.698743  68.553577   \n",
       "3   Naftisol           186  54.331565  52.509285  66.173479   \n",
       "4  Zoniferol           182  53.236507  51.818479  48.533355   \n",
       "\n",
       "   Standard Deviation       SEM  \n",
       "0            4.994774  0.329346  \n",
       "1            4.846308  0.320955  \n",
       "2            8.279709  0.603860  \n",
       "3            8.134708  0.596466  \n",
       "4            6.966589  0.516398  "
      ]
     },
     "execution_count": 10,
     "metadata": {},
     "output_type": "execute_result"
    }
   ],
   "source": [
    "#generate new table with summary statistics\n",
    "regimen_count = df1[\"Drug Regimen\"].value_counts()\n",
    "df3 = pd.DataFrame(regimen_count)\n",
    "#df3.reset_index(level=0, inplace=True) #test may need removed\n",
    "#df3 = df3.rename(columns={\"index\":\"Drug Regimen\", \"Drug Regimen\" : \"Data Points\"})\n",
    "df3[\"Mean\"] = drug_mean\n",
    "df3[\"Median\"] = drug_median\n",
    "df3[\"Variance\"] = drug_var\n",
    "df3[\"Standard Deviation\"] = drug_std\n",
    "df3[\"SEM\"] = drug_sem\n",
    "df3.reset_index(level=0, inplace=True) #test may need removed\n",
    "df3.head()"
   ]
  },
  {
   "cell_type": "markdown",
   "metadata": {},
   "source": [
    "## Bar Charts"
   ]
  },
  {
   "cell_type": "code",
   "execution_count": 11,
   "metadata": {
    "scrolled": false
   },
   "outputs": [
    {
     "data": {
      "image/png": "[encoded data removed]",
      "text/plain": [
       "<Figure size 432x288 with 1 Axes>"
      ]
     },
     "metadata": {
      "needs_background": "light"
     },
     "output_type": "display_data"
    }
   ],
   "source": [
    "#create bar chart in pandas showing data points per drug regimen\n",
    "regimen_count.plot(kind=\"bar\")\n",
    "plt.title(\"Bar Plot Pandas For Total Data Points per Drug Regimen\")\n",
    "plt.xlabel(\"Drug Regimen\")\n",
    "plt.ylabel(\"Total Data Points\")\n",
    "plt.tight_layout()\n",
    "plt.savefig(\"Bar_Panda.png\")"
   ]
  },
  {
   "cell_type": "code",
   "execution_count": 12,
   "metadata": {},
   "outputs": [
    {
     "data": {
      "image/png": "[encoded data removed]",
      "text/plain": [
       "<Figure size 432x288 with 1 Axes>"
      ]
     },
     "metadata": {
      "needs_background": "light"
     },
     "output_type": "display_data"
    }
   ],
   "source": [
    "#create bar chart in pyplot\n",
    "regimen_x = np.arange(len(regimen_count))\n",
    "tick_locations = [value for value in regimen_x]\n",
    "drug_ticks = df3.iloc[:,0]\n",
    "plt.xticks(tick_locations, drug_ticks, rotation='vertical')\n",
    "plt.bar(regimen_x, regimen_count, color='b', align='center')\n",
    "plt.title(\"Bar Plot Pyplot\")\n",
    "plt.ylabel(\"Total Data Points\")\n",
    "plt.xlabel(\"Drug Regimen\")\n",
    "plt.savefig(\"Bar_Pyplot.png\")"
   ]
  },
  {
   "cell_type": "markdown",
   "metadata": {},
   "source": [
    "## Pie plots"
   ]
  },
  {
   "cell_type": "code",
   "execution_count": 13,
   "metadata": {},
   "outputs": [
    {
     "data": {
      "text/html": [
       "<div>\n",
       "<style scoped>\n",
       "    .dataframe tbody tr th:only-of-type {\n",
       "        vertical-align: middle;\n",
       "    }\n",
       "\n",
       "    .dataframe tbody tr th {\n",
       "        vertical-align: top;\n",
       "    }\n",
       "\n",
       "    .dataframe thead th {\n",
       "        text-align: right;\n",
       "    }\n",
       "</style>\n",
       "<table border=\"1\" class=\"dataframe\">\n",
       "  <thead>\n",
       "    <tr style=\"text-align: right;\">\n",
       "      <th></th>\n",
       "      <th>Sex</th>\n",
       "    </tr>\n",
       "  </thead>\n",
       "  <tbody>\n",
       "    <tr>\n",
       "      <th>Male</th>\n",
       "      <td>958</td>\n",
       "    </tr>\n",
       "    <tr>\n",
       "      <th>Female</th>\n",
       "      <td>935</td>\n",
       "    </tr>\n",
       "  </tbody>\n",
       "</table>\n",
       "</div>"
      ],
      "text/plain": [
       "        Sex\n",
       "Male    958\n",
       "Female  935"
      ]
     },
     "execution_count": 13,
     "metadata": {},
     "output_type": "execute_result"
    }
   ],
   "source": [
    "#pie plot showing distribution of female versus male mice\n",
    "gender_split = df1[\"Sex\"].value_counts()\n",
    "df4 = pd.DataFrame(gender_split)\n",
    "df4"
   ]
  },
  {
   "cell_type": "code",
   "execution_count": 14,
   "metadata": {
    "scrolled": true
   },
   "outputs": [
    {
     "data": {
      "image/png": "[encoded data removed]",
      "text/plain": [
       "<Figure size 360x360 with 1 Axes>"
      ]
     },
     "metadata": {},
     "output_type": "display_data"
    }
   ],
   "source": [
    "#pie plot using pandas\n",
    "df4.plot.pie(y='Sex', figsize=(5, 5))\n",
    "plt.title(\"panda pie\")\n",
    "plt.savefig(\"Pie_Panda.png\")"
   ]
  },
  {
   "cell_type": "code",
   "execution_count": 15,
   "metadata": {
    "scrolled": true
   },
   "outputs": [
    {
     "data": {
      "image/png": "[encoded data removed]",
      "text/plain": [
       "<Figure size 432x288 with 1 Axes>"
      ]
     },
     "metadata": {},
     "output_type": "display_data"
    }
   ],
   "source": [
    "#pie plot using pyplot\n",
    "labels = [\"Male\", \"Female\"]\n",
    "sizes = gender_split\n",
    "colors =[\"blue\", \"pink\"]\n",
    "explode = (0.1, 0)\n",
    "plt.pie(sizes, explode=explode, labels=labels, colors=colors, autopct=\"%1.1f%%\", shadow=True, startangle=0)\n",
    "plt.axis(\"equal\")\n",
    "plt.title(\"pyplot pie\")\n",
    "plt.savefig(\"Pie_Pyplot.png\")"
   ]
  },
  {
   "cell_type": "markdown",
   "metadata": {},
   "source": [
    "## Quartiles, outliers and boxplots"
   ]
  },
  {
   "cell_type": "code",
   "execution_count": 16,
   "metadata": {
    "scrolled": false
   },
   "outputs": [],
   "source": [
    "#df1.Timepoint.max() #this is equal to 45\n",
    "#verify all ten drugs have 45 as the highest time and the answer is yes\n",
    "#time_max = df2.Timepoint.max()\n",
    "#df11 = df2[\"Drug Regimen\",\"Tumor Volume (mm3)\"].Timepoint.max()\n",
    "#print(time_max)"
   ]
  },
  {
   "cell_type": "code",
   "execution_count": 17,
   "metadata": {
    "scrolled": true
   },
   "outputs": [],
   "source": [
    "#extract maximum Timepoint (45 as determined above) per drug with tumor volume\n",
    "captp45 = df1.loc[(df1[\"Drug Regimen\"] == \"Capomulin\") & (df1[\"Timepoint\"] == df1[\"Timepoint\"].max()), :]\n",
    "ramtp45 = df1.loc[(df1[\"Drug Regimen\"] == \"Ramicane\") & (df1[\"Timepoint\"] == df1[\"Timepoint\"].max()), :]\n",
    "inftp45 = df1.loc[(df1[\"Drug Regimen\"] == \"Infubinol\") & (df1[\"Timepoint\"] == df1[\"Timepoint\"].max()), :]\n",
    "ceftp45 = df1.loc[(df1[\"Drug Regimen\"] == \"Ceftamin\") & (df1[\"Timepoint\"] == df1[\"Timepoint\"].max()), :]"
   ]
  },
  {
   "cell_type": "code",
   "execution_count": 18,
   "metadata": {
    "scrolled": true
   },
   "outputs": [
    {
     "name": "stdout",
     "output_type": "stream",
     "text": [
      "The lower quartile of tumor volume for Capomulin is: 32.37735684\n",
      "The upper quartile of tumor volume for Capomulin is: 40.1592203\n",
      "The interquartile range of tumor volume for Capomulin is: 7.781863460000004\n",
      "Values below 20.70456164999999 could be outliers.\n",
      "Values above 51.83201549 could be outliers.\n",
      "---------------------------------------------------------------\n",
      "The lower quartile of tumor volume for Ramicane is: 30.981175224999998\n",
      "The upper quartile of tumor volume for Ramicane is: 38.508305307499995\n",
      "The interquartile range of tumor volume for Ramicane is: 7.527130082499998\n",
      "Values below 19.690480101250003 could be outliers for Ramicane.\n",
      "Values above 49.79900043124999 could be outliers for Ramicane.\n",
      "---------------------------------------------------------------\n",
      "The lower quartile of tumor volume for Infubinol is: 62.75445141\n",
      "The upper quartile of tumor volume for Infubinol is: 67.68556862\n",
      "The interquartile range of tumor volume for Infubinol is: 4.9311172099999965\n",
      "Values below 55.35777559500001 could be outliers for Infubinol.\n",
      "Values above 75.08224443499999 could be outliers for Infubinol.\n",
      "---------------------------------------------------------------\n",
      "The lower quartile of tumor volume for Ceftamin is: 61.43389223\n",
      "The upper quartile of tumor volume for Ceftamin is: 67.52748237\n",
      "The interquartile range of tumor volume for Ceftamin is: 6.093590140000003\n",
      "Values below 52.29350701999999 could be outliers for Ceftamin.\n",
      "Values above 76.66786758 could be outliers for Ceftamin.\n",
      "---------------------------------------------------------------\n"
     ]
    }
   ],
   "source": [
    "#tumor volumes\n",
    "captv = captp45[\"Tumor Volume (mm3)\"].sort_values() #Capomulin tumor volumes\n",
    "ramtv = ramtp45[\"Tumor Volume (mm3)\"].sort_values() #Ramicane tumor volumes\n",
    "inftv = inftp45[\"Tumor Volume (mm3)\"].sort_values() #Infubinol tumor volumes\n",
    "ceftv = ceftp45[\"Tumor Volume (mm3)\"].sort_values() #Ceftamin tumor volumes\n",
    "\n",
    "#calculate quartiles and outlier ranges for Capomulin\n",
    "qcaptv = captv.quantile([.25,.5,.75])\n",
    "lcaptv = qcaptv[0.25]\n",
    "ucaptv = qcaptv[0.75]\n",
    "iqrcaptv = ucaptv-lcaptv\n",
    "print(f'The lower quartile of tumor volume for Capomulin is: {lcaptv}')\n",
    "print(f'The upper quartile of tumor volume for Capomulin is: {ucaptv}')\n",
    "print(f'The interquartile range of tumor volume for Capomulin is: {iqrcaptv}')\n",
    "lbcaptv = lcaptv - (1.5*iqrcaptv)\n",
    "ubcaptv = ucaptv + (1.5*iqrcaptv)\n",
    "print(f'Values below {lbcaptv} could be outliers.')\n",
    "print(f'Values above {ubcaptv} could be outliers.')\n",
    "print('---------------------------------------------------------------')\n",
    "\n",
    "#calculate quartiles and outlier ranges for Ramicane\n",
    "qramtv = ramtv.quantile([.25,.5,.75])\n",
    "lramtv = qramtv[0.25]\n",
    "uramtv = qramtv[0.75]\n",
    "iqrramtv = uramtv-lramtv\n",
    "print(f'The lower quartile of tumor volume for Ramicane is: {lramtv}')\n",
    "print(f'The upper quartile of tumor volume for Ramicane is: {uramtv}')\n",
    "print(f'The interquartile range of tumor volume for Ramicane is: {iqrramtv}')\n",
    "lbramtv = lramtv - (1.5*iqrramtv)\n",
    "ubramtv = uramtv + (1.5*iqrramtv)\n",
    "print(f'Values below {lbramtv} could be outliers for Ramicane.')\n",
    "print(f'Values above {ubramtv} could be outliers for Ramicane.')\n",
    "print('---------------------------------------------------------------')\n",
    "\n",
    "#calculate quartiles and outlier ranges for Infubinol\n",
    "qinftv = inftv.quantile([.25,.5,.75])\n",
    "linftv = qinftv[0.25]\n",
    "uinftv = qinftv[0.75]\n",
    "iqrinftv = uinftv-linftv\n",
    "print(f'The lower quartile of tumor volume for Infubinol is: {linftv}')\n",
    "print(f'The upper quartile of tumor volume for Infubinol is: {uinftv}')\n",
    "print(f'The interquartile range of tumor volume for Infubinol is: {iqrinftv}')\n",
    "lbinftv = linftv - (1.5*iqrinftv)\n",
    "ubinftv = uinftv + (1.5*iqrinftv)\n",
    "print(f'Values below {lbinftv} could be outliers for Infubinol.')\n",
    "print(f'Values above {ubinftv} could be outliers for Infubinol.')\n",
    "print('---------------------------------------------------------------')\n",
    "\n",
    "#calculate quartiles and outlier ranges for Ceftamin\n",
    "qceftv = ceftv.quantile([.25,.5,.75])\n",
    "lceftv = qceftv[0.25]\n",
    "uceftv = qceftv[0.75]\n",
    "iqrceftv = uceftv-lceftv\n",
    "print(f'The lower quartile of tumor volume for Ceftamin is: {lceftv}')\n",
    "print(f'The upper quartile of tumor volume for Ceftamin is: {uceftv}')\n",
    "print(f'The interquartile range of tumor volume for Ceftamin is: {iqrceftv}')\n",
    "lbceftv = lceftv - (1.5*iqrceftv)\n",
    "ubceftv = uceftv + (1.5*iqrceftv)\n",
    "print(f'Values below {lbceftv} could be outliers for Ceftamin.')\n",
    "print(f'Values above {ubceftv} could be outliers for Ceftamin.')\n",
    "print('---------------------------------------------------------------')"
   ]
  },
  {
   "cell_type": "code",
   "execution_count": 19,
   "metadata": {
    "scrolled": true
   },
   "outputs": [
    {
     "data": {
      "image/png": "[encoded data removed]",
      "text/plain": [
       "<Figure size 432x288 with 1 Axes>"
      ]
     },
     "metadata": {
      "needs_background": "light"
     },
     "output_type": "display_data"
    }
   ],
   "source": [
    "#Box plot set up\n",
    "captv = captp45[\"Tumor Volume (mm3)\"].sort_values()\n",
    "ramtv = ramtp45[\"Tumor Volume (mm3)\"].sort_values()\n",
    "inftv = inftp45[\"Tumor Volume (mm3)\"].sort_values()\n",
    "ceftv = ceftp45[\"Tumor Volume (mm3)\"].sort_values()\n",
    "red_square = dict(markerfacecolor = 'r', marker='s')\n",
    "\n",
    "fig, ax1 = plt.subplots()\n",
    "\n",
    "ax1.set_ylabel(\"Tumor Volume\")\n",
    "\n",
    "ax1.boxplot([captv, ramtv, inftv, ceftv], flierprops=red_square)\n",
    "plt.xticks([1, 2, 3, 4], ['Capomulin', 'Ramicane', 'Infubinol', 'Ceftamin'])\n",
    "plt.grid()\n",
    "\n",
    "plt.savefig(\"BoxplotAll.png\") #prints black screen"
   ]
  },
  {
   "cell_type": "code",
   "execution_count": 20,
   "metadata": {},
   "outputs": [],
   "source": [
    "#print(captv) #to check values - ok min is 23.343598 and max is 47.685963 with a total of 21 values"
   ]
  },
  {
   "cell_type": "code",
   "execution_count": 21,
   "metadata": {
    "scrolled": true
   },
   "outputs": [
    {
     "data": {
      "image/png": "[encoded data removed]",
      "text/plain": [
       "<Figure size 432x288 with 1 Axes>"
      ]
     },
     "metadata": {
      "needs_background": "light"
     },
     "output_type": "display_data"
    }
   ],
   "source": [
    "#test one drug regimen only to see if markers show up - they don't + + + + + + + + + + + + + + + + + + + + +\n",
    "green_diamond = dict(markerfacecolor = 'g', marker='D')\n",
    "fig2, ax = plt.subplots()\n",
    "ax.set_title(\"Test for Capomulin\")\n",
    "ax.set_ylabel(\"Tumor Volume\")\n",
    "ax.boxplot(captv, flierprops=green_diamond)\n",
    "ax.grid()\n",
    "plt.show()"
   ]
  },
  {
   "cell_type": "markdown",
   "metadata": {},
   "source": [
    "## Line and scatter plots"
   ]
  },
  {
   "cell_type": "code",
   "execution_count": 22,
   "metadata": {
    "scrolled": true
   },
   "outputs": [],
   "source": [
    "#filter on Capomulin and one mouse\n",
    "capmouse = df1.loc[(df1[\"Drug Regimen\"] == \"Capomulin\") & (df1[\"Mouse ID\"] == \"s185\"), :]\n",
    "#print(capmouse)"
   ]
  },
  {
   "cell_type": "code",
   "execution_count": 23,
   "metadata": {},
   "outputs": [
    {
     "data": {
      "text/html": [
       "<div>\n",
       "<style scoped>\n",
       "    .dataframe tbody tr th:only-of-type {\n",
       "        vertical-align: middle;\n",
       "    }\n",
       "\n",
       "    .dataframe tbody tr th {\n",
       "        vertical-align: top;\n",
       "    }\n",
       "\n",
       "    .dataframe thead th {\n",
       "        text-align: right;\n",
       "    }\n",
       "</style>\n",
       "<table border=\"1\" class=\"dataframe\">\n",
       "  <thead>\n",
       "    <tr style=\"text-align: right;\">\n",
       "      <th></th>\n",
       "      <th>Mouse ID</th>\n",
       "      <th>Drug Regimen</th>\n",
       "      <th>Sex</th>\n",
       "      <th>Age_months</th>\n",
       "      <th>Weight (g)</th>\n",
       "      <th>Timepoint</th>\n",
       "      <th>Tumor Volume (mm3)</th>\n",
       "      <th>Metastatic Sites</th>\n",
       "    </tr>\n",
       "  </thead>\n",
       "  <tbody>\n",
       "    <tr>\n",
       "      <th>10</th>\n",
       "      <td>s185</td>\n",
       "      <td>Capomulin</td>\n",
       "      <td>Female</td>\n",
       "      <td>3</td>\n",
       "      <td>17</td>\n",
       "      <td>0</td>\n",
       "      <td>45.000000</td>\n",
       "      <td>0</td>\n",
       "    </tr>\n",
       "    <tr>\n",
       "      <th>11</th>\n",
       "      <td>s185</td>\n",
       "      <td>Capomulin</td>\n",
       "      <td>Female</td>\n",
       "      <td>3</td>\n",
       "      <td>17</td>\n",
       "      <td>5</td>\n",
       "      <td>43.878496</td>\n",
       "      <td>0</td>\n",
       "    </tr>\n",
       "    <tr>\n",
       "      <th>12</th>\n",
       "      <td>s185</td>\n",
       "      <td>Capomulin</td>\n",
       "      <td>Female</td>\n",
       "      <td>3</td>\n",
       "      <td>17</td>\n",
       "      <td>10</td>\n",
       "      <td>37.614948</td>\n",
       "      <td>0</td>\n",
       "    </tr>\n",
       "    <tr>\n",
       "      <th>13</th>\n",
       "      <td>s185</td>\n",
       "      <td>Capomulin</td>\n",
       "      <td>Female</td>\n",
       "      <td>3</td>\n",
       "      <td>17</td>\n",
       "      <td>15</td>\n",
       "      <td>38.177232</td>\n",
       "      <td>0</td>\n",
       "    </tr>\n",
       "    <tr>\n",
       "      <th>14</th>\n",
       "      <td>s185</td>\n",
       "      <td>Capomulin</td>\n",
       "      <td>Female</td>\n",
       "      <td>3</td>\n",
       "      <td>17</td>\n",
       "      <td>20</td>\n",
       "      <td>36.866876</td>\n",
       "      <td>0</td>\n",
       "    </tr>\n",
       "  </tbody>\n",
       "</table>\n",
       "</div>"
      ],
      "text/plain": [
       "   Mouse ID Drug Regimen     Sex  Age_months  Weight (g)  Timepoint  \\\n",
       "10     s185    Capomulin  Female           3          17          0   \n",
       "11     s185    Capomulin  Female           3          17          5   \n",
       "12     s185    Capomulin  Female           3          17         10   \n",
       "13     s185    Capomulin  Female           3          17         15   \n",
       "14     s185    Capomulin  Female           3          17         20   \n",
       "\n",
       "    Tumor Volume (mm3)  Metastatic Sites  \n",
       "10           45.000000                 0  \n",
       "11           43.878496                 0  \n",
       "12           37.614948                 0  \n",
       "13           38.177232                 0  \n",
       "14           36.866876                 0  "
      ]
     },
     "execution_count": 23,
     "metadata": {},
     "output_type": "execute_result"
    }
   ],
   "source": [
    "#set capmouse into a data frame\n",
    "df_s185 = pd.DataFrame(capmouse)\n",
    "df_s185.head()"
   ]
  },
  {
   "cell_type": "code",
   "execution_count": 24,
   "metadata": {},
   "outputs": [
    {
     "data": {
      "image/png": "[encoded data removed]",
      "text/plain": [
       "<Figure size 432x288 with 1 Axes>"
      ]
     },
     "metadata": {
      "needs_background": "light"
     },
     "output_type": "display_data"
    }
   ],
   "source": [
    "#line plot set up for time point vs tumor volume for capomulin drug regimen for mouse s185\n",
    "plt.plot(df_s185.iloc[:,5],df_s185.iloc[:,6], marker=\"o\")\n",
    "plt.title(\"Capomulin - Timepoint vs Tumor Volume for mouse s185\")\n",
    "plt.xlabel(\"Timepoint\")\n",
    "plt.ylabel(\"Tumor Volume (mm3)\")\n",
    "plt.grid()\n",
    "plt.savefig(\"LinePlot.png\")"
   ]
  },
  {
   "cell_type": "code",
   "execution_count": 25,
   "metadata": {},
   "outputs": [],
   "source": [
    "# Generate a scatter plot of mouse weight versus average tumor volume for the Capomulin regimen"
   ]
  },
  {
   "cell_type": "code",
   "execution_count": 26,
   "metadata": {
    "scrolled": true
   },
   "outputs": [],
   "source": [
    "#Capomulin mouse weight vs average tumor volume\n",
    "capmwtv = df1.loc[(df1[\"Drug Regimen\"] == \"Capomulin\"), :]\n",
    "dfy = pd.DataFrame(capmwtv)"
   ]
  },
  {
   "cell_type": "code",
   "execution_count": 27,
   "metadata": {
    "scrolled": true
   },
   "outputs": [],
   "source": [
    "#capture capomulin mouse weight - could have used min or max here because the weights of the mice don't change\n",
    "capmousewgt = dfy.groupby(\"Mouse ID\").min()[\"Weight (g)\"]\n",
    "#print(capmousecntwgt)"
   ]
  },
  {
   "cell_type": "code",
   "execution_count": 28,
   "metadata": {},
   "outputs": [],
   "source": [
    "#this is what we need for the average tumor volume for each mouse in the capomulin drug regimen\n",
    "capmouseavgtv = dfy.groupby(\"Mouse ID\").mean()[\"Tumor Volume (mm3)\"]\n",
    "#print(capmouseavgtv)"
   ]
  },
  {
   "cell_type": "code",
   "execution_count": 29,
   "metadata": {},
   "outputs": [
    {
     "data": {
      "text/html": [
       "<div>\n",
       "<style scoped>\n",
       "    .dataframe tbody tr th:only-of-type {\n",
       "        vertical-align: middle;\n",
       "    }\n",
       "\n",
       "    .dataframe tbody tr th {\n",
       "        vertical-align: top;\n",
       "    }\n",
       "\n",
       "    .dataframe thead th {\n",
       "        text-align: right;\n",
       "    }\n",
       "</style>\n",
       "<table border=\"1\" class=\"dataframe\">\n",
       "  <thead>\n",
       "    <tr style=\"text-align: right;\">\n",
       "      <th></th>\n",
       "      <th>Weight_g</th>\n",
       "      <th>Avg_TV</th>\n",
       "    </tr>\n",
       "    <tr>\n",
       "      <th>Mouse ID</th>\n",
       "      <th></th>\n",
       "      <th></th>\n",
       "    </tr>\n",
       "  </thead>\n",
       "  <tbody>\n",
       "    <tr>\n",
       "      <th>b128</th>\n",
       "      <td>22</td>\n",
       "      <td>41.963636</td>\n",
       "    </tr>\n",
       "    <tr>\n",
       "      <th>b742</th>\n",
       "      <td>21</td>\n",
       "      <td>40.083699</td>\n",
       "    </tr>\n",
       "    <tr>\n",
       "      <th>f966</th>\n",
       "      <td>17</td>\n",
       "      <td>36.505973</td>\n",
       "    </tr>\n",
       "    <tr>\n",
       "      <th>g288</th>\n",
       "      <td>19</td>\n",
       "      <td>41.990097</td>\n",
       "    </tr>\n",
       "    <tr>\n",
       "      <th>g316</th>\n",
       "      <td>22</td>\n",
       "      <td>44.613344</td>\n",
       "    </tr>\n",
       "  </tbody>\n",
       "</table>\n",
       "</div>"
      ],
      "text/plain": [
       "          Weight_g     Avg_TV\n",
       "Mouse ID                     \n",
       "b128            22  41.963636\n",
       "b742            21  40.083699\n",
       "f966            17  36.505973\n",
       "g288            19  41.990097\n",
       "g316            22  44.613344"
      ]
     },
     "execution_count": 29,
     "metadata": {},
     "output_type": "execute_result"
    }
   ],
   "source": [
    "#create a new data frame for unique \"Mouse ID\" and \"Weight (g)\" - - - - - generate df here\n",
    "dfz = pd.DataFrame({\"Weight_g\" : capmousewgt, \"Avg_TV\" : capmouseavgtv})\n",
    "dfz.head()"
   ]
  },
  {
   "cell_type": "code",
   "execution_count": 30,
   "metadata": {},
   "outputs": [
    {
     "data": {
      "image/png": "[encoded data removed]",
      "text/plain": [
       "<Figure size 432x288 with 1 Axes>"
      ]
     },
     "metadata": {
      "needs_background": "light"
     },
     "output_type": "display_data"
    }
   ],
   "source": [
    "#scatter diagram showing mouse weight vs average tumor volume for capomulin drug regemin - OK\n",
    "plt.scatter(dfz.iloc[:,0], dfz.iloc[:,1], marker =\"o\", facecolors=\"yellow\", edgecolors=\"black\")\n",
    "plt.xlabel(\"Mouse Weight (g)\")\n",
    "plt.ylabel(\"Average Tumor Volume (mm3)\")\n",
    "plt.title(\"Capomulin - Mouse Weight vs Average Tumor Volume\")\n",
    "plt.grid()\n",
    "plt.savefig(\"ScatterDiagram.png\")"
   ]
  },
  {
   "cell_type": "code",
   "execution_count": 31,
   "metadata": {},
   "outputs": [
    {
     "name": "stdout",
     "output_type": "stream",
     "text": [
      "The correlation between mouse Weight(g) and the average Tumor Volume(mm3) is 0.84\n"
     ]
    }
   ],
   "source": [
    "#calculate correlation between mouse weight and the average tumor volume - OK\n",
    "mousewgt = dfz.iloc[:,0] #mouse weight\n",
    "avgtumorv = dfz.iloc[:,1] #average tumor volume\n",
    "correlation = st.pearsonr(mousewgt,avgtumorv)\n",
    "print(f\"The correlation between mouse Weight(g) and the average Tumor Volume(mm3) is {round(correlation[0],2)}\")"
   ]
  },
  {
   "cell_type": "code",
   "execution_count": 32,
   "metadata": {},
   "outputs": [
    {
     "name": "stdout",
     "output_type": "stream",
     "text": [
      "The r-squared is: 0.8419363424694718\n"
     ]
    },
    {
     "data": {
      "image/png": "[encoded data removed]",
      "text/plain": [
       "<Figure size 432x288 with 1 Axes>"
      ]
     },
     "metadata": {
      "needs_background": "light"
     },
     "output_type": "display_data"
    }
   ],
   "source": [
    "#scatter diagram showing mouse weight vs average tumor volume for capomulin drug regemin with regression line - OK\n",
    "#plt.scatter(dfz.iloc[:,0], dfz.iloc[:,1], marker =\"o\", facecolors=\"yellow\", edgecolors=\"black\")\n",
    "x_values = dfz.iloc[:,0]\n",
    "y_values = dfz.iloc[:,1]\n",
    "(slope, intercept, rvalue, pvalue, stderr) = st.linregress(x_values, y_values)\n",
    "regress_values = x_values * slope + intercept\n",
    "line_eq = \"y = \" + str(round(slope,2)) + \"x + \" + str(round(intercept,2))\n",
    "plt.scatter(x_values, y_values)\n",
    "plt.plot(x_values, regress_values, \"r-\")\n",
    "plt.annotate(line_eq, (20,36), fontsize=15, color=\"red\")\n",
    "plt.xlabel(\"Mouse Weight (g)\")\n",
    "plt.ylabel(\"Average Tumor Volume (mm3)\")\n",
    "plt.title(\"Capomulin - Mouse Weight vs Average Tumor Volume\")\n",
    "print(f\"The r-squared is: {rvalue}\")\n",
    "plt.grid()\n",
    "plt.savefig(\"ScatterDiagramRegression.png\")"
   ]
  },
  {
   "cell_type": "code",
   "execution_count": 33,
   "metadata": {},
   "outputs": [],
   "source": [
    "#end of file"
   ]
  }
 ],
 "metadata": {
  "anaconda-cloud": {},
  "kernelspec": {
   "display_name": "Python 3.7.6 64-bit ('PythonData': conda)",
   "language": "python",
   "name": "python37664bitpythondatacondab73bfd16082e40c58c05a61ec360665f"
  },
  "language_info": {
   "codemirror_mode": {
    "name": "ipython",
    "version": 3
   },
   "file_extension": ".py",
   "mimetype": "text/x-python",
   "name": "python",
   "nbconvert_exporter": "python",
   "pygments_lexer": "ipython3",
   "version": "3.7.9"
  }
 },
 "nbformat": 4,
 "nbformat_minor": 2
}
